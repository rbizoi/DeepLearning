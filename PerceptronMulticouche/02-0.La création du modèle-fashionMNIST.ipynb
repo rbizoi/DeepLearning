{
 "cells": [
  {
   "cell_type": "markdown",
   "metadata": {},
   "source": [
    "# <b><div style='padding:18px;background-color:#d8dcd6;color:#030aa7;font-size:130%; border-radius:12px 12px; box-shadow: 8px 8px 8px #042b4c;text-align: left'>Initialisation du document</div></b>"
   ]
  },
  {
   "cell_type": "code",
   "execution_count": 1,
   "metadata": {},
   "outputs": [],
   "source": [
    "import os\n",
    "# import json\n",
    "# @param [\"tensorflow\", \"jax\", \"torch\"]\n",
    "# os.environ[\"CUDA_VISIBLE_DEVICES\"] = \"0\"\n",
    "# os.environ['KERAS_BACKEND'] = 'tensorflow'\n",
    "# os.environ['TF_XLA_FLAGS'] = '--tf_xla_enable_xla_devices'\n",
    "# # os.environ['TF_XLA_FLAGS']='--tf_xla_auto_jit=1,--tf_xla_always_defer_compilation=true'\n",
    "# # os.environ['XLA_FLAGS']='--xla_backend_optimization_level=0,--xla_gpu_autotune_level=4,--xla_gpu_disable_ptxas_optimizations=true,--xla_gpu_use_cudnn_batchnorm_level=2'\n",
    "# # os.environ['TF_GPU_ALLOCATOR']='cuda_malloc_async'\n",
    "# os.environ['TF_CPP_MIN_LOG_LEVEL']='5'"
   ]
  },
  {
   "cell_type": "markdown",
   "metadata": {},
   "source": [
    "## <b><div style='padding:15px;background-color:#d8dcd6;color:#030aa7;font-size:100%; border-radius:10px 10px; box-shadow: 8px 8px 8px #042b4c;text-align: left'>Import libriries </div></b>"
   ]
  },
  {
   "cell_type": "code",
   "execution_count": 2,
   "metadata": {},
   "outputs": [],
   "source": [
    "import numpy as np, pandas as pd, seaborn as sns, warnings, os, sys, pickle\n",
    "from matplotlib import pyplot as plt\n",
    "from datetime import datetime as dt\n",
    "\n",
    "import matplotlib.font_manager as fm\n",
    "from matplotlib.lines import Line2D\n",
    "\n",
    "warnings.filterwarnings(action=\"ignore\")\n",
    "\n",
    "if int(str(sns.__version__).split('.')[1]) > 8 : \n",
    "    plt.style.use('seaborn-v0_8-darkgrid')\n",
    "else:\n",
    "    plt.style.use('seaborn-darkgrid')\n",
    "    \n",
    "sns.set(font_scale=2)"
   ]
  },
  {
   "cell_type": "code",
   "execution_count": 3,
   "metadata": {},
   "outputs": [],
   "source": [
    "import tensorflow as tf\n",
    "from tensorflow.keras.datasets import mnist,fashion_mnist\n",
    "from tensorflow.keras.models import Sequential\n",
    "from tensorflow.keras.layers import Dense, Dropout, Flatten\n",
    "from tensorflow.keras.layers import Conv2D, MaxPooling2D\n",
    "\n",
    "tf.get_logger().setLevel('ERROR')# Suppress TensorFlow logging (2)"
   ]
  },
  {
   "cell_type": "code",
   "execution_count": 4,
   "metadata": {},
   "outputs": [
    {
     "name": "stdout",
     "output_type": "stream",
     "text": [
      "Tensorflow\t : 2.17.0\tCUDA True\tGPU True\tXLA True\n",
      "Keras\t\t : 3.6.0\n",
      "Pandas\t\t : 2.2.2\n",
      "NumPy\t\t : 1.26.4\n"
     ]
    }
   ],
   "source": [
    "print(\"Tensorflow\\t : %s\\tCUDA %s\\tGPU %s\\tXLA %s\\nKeras\\t\\t : %s\\nPandas\\t\\t : %s\\nNumPy\\t\\t : %s\"%\n",
    "      (tf.__version__, \n",
    "       tf.test.is_built_with_cuda(), \n",
    "       tf.test.is_built_with_gpu_support(), \n",
    "       tf.test.is_built_with_xla(), \n",
    "       tf.keras.__version__, \n",
    "       pd.__version__, \n",
    "       np.__version__))"
   ]
  },
  {
   "cell_type": "code",
   "execution_count": 5,
   "metadata": {
    "ExecuteTime": {
     "end_time": "2021-09-10T17:26:53.996893Z",
     "start_time": "2021-09-10T17:26:52.749044Z"
    }
   },
   "outputs": [
    {
     "name": "stdout",
     "output_type": "stream",
     "text": [
      "Thu Jul  3 16:11:56 2025       \n",
      "+---------------------------------------------------------------------------------------+\n",
      "| NVIDIA-SMI 535.230.02             Driver Version: 535.230.02   CUDA Version: 12.2     |\n",
      "|-----------------------------------------+----------------------+----------------------+\n",
      "| GPU  Name                 Persistence-M | Bus-Id        Disp.A | Volatile Uncorr. ECC |\n",
      "| Fan  Temp   Perf          Pwr:Usage/Cap |         Memory-Usage | GPU-Util  Compute M. |\n",
      "|                                         |                      |               MIG M. |\n",
      "|=========================================+======================+======================|\n",
      "|   0  NVIDIA GeForce RTX 3090        Off | 00000000:01:00.0  On |                  N/A |\n",
      "| 30%   52C    P3              84W / 350W |   1137MiB / 24576MiB |     11%      Default |\n",
      "|                                         |                      |                  N/A |\n",
      "+-----------------------------------------+----------------------+----------------------+\n",
      "|   1  NVIDIA GeForce RTX 4090        Off | 00000000:02:00.0  On |                  Off |\n",
      "|  0%   42C    P8              20W / 450W |   4424MiB / 24564MiB |     22%      Default |\n",
      "|                                         |                      |                  N/A |\n",
      "+-----------------------------------------+----------------------+----------------------+\n",
      "                                                                                         \n",
      "+---------------------------------------------------------------------------------------+\n",
      "| Processes:                                                                            |\n",
      "|  GPU   GI   CI        PID   Type   Process name                            GPU Memory |\n",
      "|        ID   ID                                                             Usage      |\n",
      "|=======================================================================================|\n",
      "|    0   N/A  N/A      3360      G   /usr/lib/xorg/Xorg                          562MiB |\n",
      "|    0   N/A  N/A      3653      G   /usr/bin/gnome-shell                         92MiB |\n",
      "|    0   N/A  N/A      4645      G   ...irefox/6316/usr/lib/firefox/firefox      379MiB |\n",
      "|    0   N/A  N/A      7808      G   /usr/bin/nautilus                            37MiB |\n",
      "|    0   N/A  N/A     53914      G   ...onEnabled --variations-seed-version       22MiB |\n",
      "|    1   N/A  N/A      3360      G   /usr/lib/xorg/Xorg                           85MiB |\n",
      "|    1   N/A  N/A     35747      C   ...an/anaconda3/envs/keras3/bin/python     2738MiB |\n",
      "|    1   N/A  N/A     51156      C   ...an/anaconda3/envs/keras3/bin/python      388MiB |\n",
      "|    1   N/A  N/A     51307      C   ...an/anaconda3/envs/keras3/bin/python      400MiB |\n",
      "|    1   N/A  N/A     52206      C   ...an/anaconda3/envs/keras3/bin/python      400MiB |\n",
      "|    1   N/A  N/A     56428      C   ...an/anaconda3/envs/keras3/bin/python      386MiB |\n",
      "+---------------------------------------------------------------------------------------+\n"
     ]
    }
   ],
   "source": "# ! nvidia-smi"
  },
  {
   "cell_type": "markdown",
   "metadata": {
    "ExecuteTime": {
     "end_time": "2021-09-04T07:44:46.253331Z",
     "start_time": "2021-09-04T07:44:45.377287Z"
    }
   },
   "source": [
    "# <b><div style='padding:18px;background-color:#d8dcd6;color:#030aa7;font-size:130%; border-radius:12px 12px; box-shadow: 8px 8px 8px #042b4c;text-align: left'>Initialisation des GPUs presents</div></b>"
   ]
  },
  {
   "cell_type": "code",
   "execution_count": null,
   "metadata": {
    "ExecuteTime": {
     "end_time": "2021-09-10T17:26:58.886538Z",
     "start_time": "2021-09-10T17:26:56.943097Z"
    }
   },
   "outputs": [],
   "source": [
    "# os.environ['TF_XLA_FLAGS'] = '--tf_xla_enable_xla_devices'\n",
    "# physical_devices = tf.config.experimental.list_physical_devices('GPU')\n",
    "#\n",
    "# if len(physical_devices) >  0 :\n",
    "#     for i, gpu in enumerate(physical_devices):\n",
    "#         tf.config.experimental.set_memory_growth(physical_devices[i], True)\n",
    "#\n",
    "#     strategy = tf.distribute.experimental.CentralStorageStrategy()\n",
    "#     print('Le système est initialisé avec {0:d} GPUs'.format(strategy.num_replicas_in_sync))"
   ]
  },
  {
   "cell_type": "markdown",
   "metadata": {},
   "source": [
    "# <b><div style='padding:18px;background-color:#d8dcd6;color:#030aa7;font-size:130%; border-radius:12px 12px; box-shadow: 8px 8px 8px #042b4c;text-align: left'>Outils du document</div></b>"
   ]
  },
  {
   "cell_type": "code",
   "execution_count": 7,
   "metadata": {
    "ExecuteTime": {
     "end_time": "2021-09-04T07:44:46.739904Z",
     "start_time": "2021-09-04T07:44:46.715922Z"
    }
   },
   "outputs": [],
   "source": [
    "nom_projet                = '02-La création du modèle-fashionMNIST'\n",
    "repertoireProjet          = os.getcwd()\n",
    "repertoireEnregistrement  = repertoireProjet +'/'+nom_projet+ '/repertoire.images'\n",
    "repertoireSauvegardes     = repertoireProjet +'/'+nom_projet+ '/repertoire.sauvegardes'\n",
    "\n",
    "def controleExistenceRepertoire(directory, create_if_needed=True):\n",
    "    \"\"\"Voir si le répertoire existe. S'il n'existe pas il est créé.\"\"\"\n",
    "    path_exists = os.path.exists(directory)\n",
    "    if path_exists:\n",
    "        if not os.path.isdir(directory):\n",
    "            raise Exception(\"Trouvé le nom \"+directory+\" mais c'est un fichier, pas un répertoire\")\n",
    "            return False\n",
    "        return True\n",
    "    if create_if_needed:\n",
    "        os.makedirs(directory)\n",
    "        \n",
    "controleExistenceRepertoire(repertoireEnregistrement)\n",
    "controleExistenceRepertoire(repertoireSauvegardes)\n",
    "\n",
    "def sauvegarderImage( fichier):\n",
    "    \"\"\"Enregistrez la figure. Appelez la méthode juste avant plt.show ().\"\"\"\n",
    "    plt.savefig(os.path.join(repertoireEnregistrement,\n",
    "                             fichier+f\"--{dt.now().strftime('%Y_%m_%d_%H.%M.%S')}.png\"), \n",
    "                             dpi=600, \n",
    "                             bbox_inches='tight')\n",
    "\n",
    "\n",
    "    \n",
    "def sauvegarderModelPoids(model, fichierPoids, repertoireSauvegardes=repertoireSauvegardes):\n",
    "    \"\"\"Enregistrez les poids du modèle Keras.\"\"\"\n",
    "    if fichierPoids != None:\n",
    "        controleExistenceRepertoire(repertoireSauvegardes)\n",
    "        nomFichier = os.path.join(repertoireSauvegardes, '{}.keras'.format(fichierPoids))\n",
    "        model.save_weights(nomFichier)\n",
    "\n",
    "def sauvegarderModel(model, fichier, repertoireSauvegardes=repertoireSauvegardes):\n",
    "    \"\"\"Enregistrez le modèle Keras.\"\"\"\n",
    "    if fichier != None:\n",
    "        controleExistenceRepertoire(repertoireSauvegardes)\n",
    "        nomFichier = os.path.join(repertoireSauvegardes, '{}.keras'.format(fichier))\n",
    "        model.save(nomFichier)\n",
    "\n",
    "def lectureModelPoids(model, fichier, repertoireSauvegardes=repertoireSauvegardes):\n",
    "    \"\"\"Si le fichier existe, il est chargé et retourne True, sinon retourne False.\"\"\"\n",
    "    nomFichier = os.path.join(repertoireSauvegardes, '{}.keras'.format(fichier))\n",
    "    if os.path.exists(nomFichier):\n",
    "        if os.path.isfile(nomFichier):\n",
    "            model.load_weights(nomFichier)\n",
    "            return True\n",
    "    return False\n",
    "\n",
    "def lectureModel(self, model_filename):\n",
    "    \"\"\"Si le fichier existe, il est chargé et retourne True, sinon retourne False.\"\"\"\n",
    "    fullpath = self.saved_models_dir+'/'+model_filename+'.keras'\n",
    "    if os.path.exists(fullpath):\n",
    "        if os.path.isfile(fullpath):\n",
    "            model = load_model(fullpath)\n",
    "            return model\n",
    "    return None    \n",
    "\n",
    "def sauvegardeHistorique(model,\n",
    "                         repertoireSauvegardes,\n",
    "                         nomSauvegarde='one_hidden_layer_history_batch_size_1'):\n",
    "\n",
    "    history = pd.DataFrame( model.history)\n",
    "    history.reset_index(inplace=True)\n",
    "    history.rename(columns={'index':'epoch'},inplace=True)\n",
    "    history.to_parquet(os.path.join(repertoireSauvegardes,f'{nomSauvegarde}.gzip'),compression='gzip', engine='pyarrow') \n",
    "    return history\n",
    "\n",
    "def afficheHistoriqueEntrainement(history, palette):\n",
    "    fig, ax = plt.subplots(nrows=1, ncols=2,figsize=(48,16));\n",
    "    markersize = 8\n",
    "    linewidth=2\n",
    "    \n",
    "    graph = sns.lineplot(x='epoch', \n",
    "                         y='accuracy',  \n",
    "                         data=history,\n",
    "                         ax=ax[0],      \n",
    "                         label='accuracy',\n",
    "                         err_style=None, \n",
    "                         marker='o',\n",
    "                         markersize=markersize,\n",
    "                         linewidth=linewidth,\n",
    "                         color=palette[0],\n",
    "                         );\n",
    "    graph = sns.lineplot(x='epoch', \n",
    "                         y='val_accuracy',  \n",
    "                         data=history,\n",
    "                         ax=ax[0],      \n",
    "                         label='val_accuracy',\n",
    "                         err_style=None, \n",
    "                         marker='o',\n",
    "                         markersize=markersize,\n",
    "                         linewidth=linewidth,\n",
    "                         color=palette[1],\n",
    "                         );\n",
    "    \n",
    "    graph = sns.lineplot(x='epoch', \n",
    "                         y='loss',  \n",
    "                         data=history,\n",
    "                         ax=ax[1],      \n",
    "                         label='loss',\n",
    "                         err_style=None, \n",
    "                         marker='o',\n",
    "                         markersize=markersize,\n",
    "                         linewidth=linewidth,\n",
    "                         color=palette[0],\n",
    "                         );\n",
    "    graph = sns.lineplot(x='epoch', \n",
    "                         y='val_loss',  \n",
    "                         data=history,\n",
    "                         ax=ax[1],      \n",
    "                         label='val_loss',\n",
    "                         err_style=None, \n",
    "                         marker='o',\n",
    "                         markersize=markersize,\n",
    "                         linewidth=linewidth,\n",
    "                         color=palette[1],\n",
    "                         );\n",
    "    sauvegarderImage('afficheHistoriqueEntrainement')\n",
    "    "
   ]
  },
  {
   "cell_type": "markdown",
   "metadata": {},
   "source": [
    "# <b><div style='padding:18px;background-color:#d8dcd6;color:#030aa7;font-size:130%; border-radius:12px 12px; box-shadow: 8px 8px 8px #042b4c;text-align: left'>Lecture des données</div></b>"
   ]
  },
  {
   "cell_type": "code",
   "execution_count": 8,
   "metadata": {
    "ExecuteTime": {
     "end_time": "2021-09-04T07:44:47.124734Z",
     "start_time": "2021-09-04T07:44:46.766458Z"
    }
   },
   "outputs": [],
   "source": [
    "random_seed = 42\n",
    "np.random.seed(random_seed)\n",
    "\n",
    "# load MNIST data and save sizes\n",
    "(X_train, y_train), (X_test, y_test) = fashion_mnist.load_data()\n",
    "image_height = X_train.shape[1]\n",
    "image_width = X_train.shape[2]\n",
    "number_of_pixels = image_height * image_width\n",
    "\n",
    "# convert to floating-point\n",
    "# X_train = tf.cast(X_train, tf.float32)\n",
    "# X_test  = tf.cast(X_test, tf.float32)\n",
    "\n",
    "X_train = X_train.astype('float32')\n",
    "X_test  = X_test.astype('float32')\n",
    "\n",
    "# scale data to range [0, 1]\n",
    "X_train /= 255.0\n",
    "X_test /= 255.0\n",
    "\n",
    "# save the original y_train and y_test\n",
    "original_y_train = y_train\n",
    "original_y_test = y_test\n",
    "\n",
    "# replace label data with one-hot encoded versions\n",
    "number_of_classes = 1 + max(np.append(y_train, y_test))\n",
    "y_train = tf.keras.utils.to_categorical(y_train, num_classes=number_of_classes)\n",
    "y_test = tf.keras.utils.to_categorical(y_test, num_classes=number_of_classes)"
   ]
  },
  {
   "cell_type": "code",
   "execution_count": 9,
   "metadata": {},
   "outputs": [],
   "source": [
    "dictLabels = {0:'T-shirt',\n",
    "              1:'Pantalon',\n",
    "              2:'Pull',\n",
    "              3:'Robe',\n",
    "              4:'Manteau',\n",
    "              5:'Sandale',\n",
    "              6:'Chemise',\n",
    "              7:'Baskets',\n",
    "              8:'Sac',\n",
    "              9:'Bottines'}"
   ]
  },
  {
   "cell_type": "markdown",
   "metadata": {},
   "source": [
    "# <b><div style='padding:18px;background-color:#d8dcd6;color:#030aa7;font-size:130%; border-radius:12px 12px; box-shadow: 8px 8px 8px #042b4c;text-align: left'>Création d'un modèle</div></b>"
   ]
  },
  {
   "cell_type": "code",
   "execution_count": 10,
   "metadata": {},
   "outputs": [],
   "source": [
    "def make_one_hidden_layer_model():\n",
    "    model = Sequential()\n",
    "    model.add(Dense(number_of_pixels, activation='relu',input_shape=[number_of_pixels]))\n",
    "#     for i in range(20):\n",
    "#         model.add(Dense(512, activation='relu'))\n",
    "#     for i in range(10):\n",
    "#         model.add(Dense(256, activation='relu'))\n",
    "        \n",
    "    model.add(Dense(number_of_classes, activation='softmax'))\n",
    "    return model\n",
    "\n",
    "# make the model\n",
    "one_hidden_layer_model = make_one_hidden_layer_model()"
   ]
  },
  {
   "cell_type": "code",
   "execution_count": 11,
   "metadata": {},
   "outputs": [
    {
     "data": {
      "text/html": [
       "<pre style=\"white-space:pre;overflow-x:auto;line-height:normal;font-family:Menlo,'DejaVu Sans Mono',consolas,'Courier New',monospace\"><span style=\"font-weight: bold\">Model: \"sequential\"</span>\n",
       "</pre>\n"
      ],
      "text/plain": [
       "\u001B[1mModel: \"sequential\"\u001B[0m\n"
      ]
     },
     "metadata": {},
     "output_type": "display_data"
    },
    {
     "data": {
      "text/html": [
       "<pre style=\"white-space:pre;overflow-x:auto;line-height:normal;font-family:Menlo,'DejaVu Sans Mono',consolas,'Courier New',monospace\">┏━━━━━━━━━━━━━━━━━━━━━━━━━━━━━━━━━┳━━━━━━━━━━━━━━━━━━━━━━━━┳━━━━━━━━━━━━━━━┓\n",
       "┃<span style=\"font-weight: bold\"> Layer (type)                    </span>┃<span style=\"font-weight: bold\"> Output Shape           </span>┃<span style=\"font-weight: bold\">       Param # </span>┃\n",
       "┡━━━━━━━━━━━━━━━━━━━━━━━━━━━━━━━━━╇━━━━━━━━━━━━━━━━━━━━━━━━╇━━━━━━━━━━━━━━━┩\n",
       "│ dense (<span style=\"color: #0087ff; text-decoration-color: #0087ff\">Dense</span>)                   │ (<span style=\"color: #00d7ff; text-decoration-color: #00d7ff\">None</span>, <span style=\"color: #00af00; text-decoration-color: #00af00\">784</span>)            │       <span style=\"color: #00af00; text-decoration-color: #00af00\">615,440</span> │\n",
       "├─────────────────────────────────┼────────────────────────┼───────────────┤\n",
       "│ dense_1 (<span style=\"color: #0087ff; text-decoration-color: #0087ff\">Dense</span>)                 │ (<span style=\"color: #00d7ff; text-decoration-color: #00d7ff\">None</span>, <span style=\"color: #00af00; text-decoration-color: #00af00\">10</span>)             │         <span style=\"color: #00af00; text-decoration-color: #00af00\">7,850</span> │\n",
       "└─────────────────────────────────┴────────────────────────┴───────────────┘\n",
       "</pre>\n"
      ],
      "text/plain": [
       "┏━━━━━━━━━━━━━━━━━━━━━━━━━━━━━━━━━┳━━━━━━━━━━━━━━━━━━━━━━━━┳━━━━━━━━━━━━━━━┓\n",
       "┃\u001B[1m \u001B[0m\u001B[1mLayer (type)                   \u001B[0m\u001B[1m \u001B[0m┃\u001B[1m \u001B[0m\u001B[1mOutput Shape          \u001B[0m\u001B[1m \u001B[0m┃\u001B[1m \u001B[0m\u001B[1m      Param #\u001B[0m\u001B[1m \u001B[0m┃\n",
       "┡━━━━━━━━━━━━━━━━━━━━━━━━━━━━━━━━━╇━━━━━━━━━━━━━━━━━━━━━━━━╇━━━━━━━━━━━━━━━┩\n",
       "│ dense (\u001B[38;5;33mDense\u001B[0m)                   │ (\u001B[38;5;45mNone\u001B[0m, \u001B[38;5;34m784\u001B[0m)            │       \u001B[38;5;34m615,440\u001B[0m │\n",
       "├─────────────────────────────────┼────────────────────────┼───────────────┤\n",
       "│ dense_1 (\u001B[38;5;33mDense\u001B[0m)                 │ (\u001B[38;5;45mNone\u001B[0m, \u001B[38;5;34m10\u001B[0m)             │         \u001B[38;5;34m7,850\u001B[0m │\n",
       "└─────────────────────────────────┴────────────────────────┴───────────────┘\n"
      ]
     },
     "metadata": {},
     "output_type": "display_data"
    },
    {
     "data": {
      "text/html": [
       "<pre style=\"white-space:pre;overflow-x:auto;line-height:normal;font-family:Menlo,'DejaVu Sans Mono',consolas,'Courier New',monospace\"><span style=\"font-weight: bold\"> Total params: </span><span style=\"color: #00af00; text-decoration-color: #00af00\">623,290</span> (2.38 MB)\n",
       "</pre>\n"
      ],
      "text/plain": [
       "\u001B[1m Total params: \u001B[0m\u001B[38;5;34m623,290\u001B[0m (2.38 MB)\n"
      ]
     },
     "metadata": {},
     "output_type": "display_data"
    },
    {
     "data": {
      "text/html": [
       "<pre style=\"white-space:pre;overflow-x:auto;line-height:normal;font-family:Menlo,'DejaVu Sans Mono',consolas,'Courier New',monospace\"><span style=\"font-weight: bold\"> Trainable params: </span><span style=\"color: #00af00; text-decoration-color: #00af00\">623,290</span> (2.38 MB)\n",
       "</pre>\n"
      ],
      "text/plain": [
       "\u001B[1m Trainable params: \u001B[0m\u001B[38;5;34m623,290\u001B[0m (2.38 MB)\n"
      ]
     },
     "metadata": {},
     "output_type": "display_data"
    },
    {
     "data": {
      "text/html": [
       "<pre style=\"white-space:pre;overflow-x:auto;line-height:normal;font-family:Menlo,'DejaVu Sans Mono',consolas,'Courier New',monospace\"><span style=\"font-weight: bold\"> Non-trainable params: </span><span style=\"color: #00af00; text-decoration-color: #00af00\">0</span> (0.00 B)\n",
       "</pre>\n"
      ],
      "text/plain": [
       "\u001B[1m Non-trainable params: \u001B[0m\u001B[38;5;34m0\u001B[0m (0.00 B)\n"
      ]
     },
     "metadata": {},
     "output_type": "display_data"
    }
   ],
   "source": [
    "one_hidden_layer_model.summary()"
   ]
  },
  {
   "cell_type": "code",
   "execution_count": 12,
   "metadata": {},
   "outputs": [
    {
     "data": {
      "image/png": "[encoded data removed]",
      "text/plain": [
       "<IPython.core.display.Image object>"
      ]
     },
     "execution_count": 12,
     "metadata": {},
     "output_type": "execute_result"
    }
   ],
   "source": [
    "tf.keras.utils.plot_model(one_hidden_layer_model, \n",
    "                          to_file=os.path.join(repertoireEnregistrement,'model_plot.png'), \n",
    "                          show_shapes=True, \n",
    "                          show_layer_names=True)"
   ]
  },
  {
   "cell_type": "markdown",
   "metadata": {},
   "source": [
    "# <b><div style='padding:18px;background-color:#d8dcd6;color:#030aa7;font-size:130%; border-radius:12px 12px; box-shadow: 8px 8px 8px #042b4c;text-align: left'>Compilation du modèle</div></b>\n"
   ]
  },
  {
   "cell_type": "code",
   "execution_count": 13,
   "metadata": {},
   "outputs": [],
   "source": [
    "one_hidden_layer_model.compile(loss='categorical_crossentropy', optimizer='adam', metrics=['accuracy'])"
   ]
  }
 ],
 "metadata": {
  "kernelspec": {
   "display_name": "Python 3 (ipykernel)",
   "language": "python",
   "name": "python3"
  },
  "language_info": {
   "codemirror_mode": {
    "name": "ipython",
    "version": 3
   },
   "file_extension": ".py",
   "mimetype": "text/x-python",
   "name": "python",
   "nbconvert_exporter": "python",
   "pygments_lexer": "ipython3",
   "version": "3.11.10"
  },
  "toc": {
   "base_numbering": 1,
   "nav_menu": {},
   "number_sections": true,
   "sideBar": true,
   "skip_h1_title": false,
   "title_cell": "Table of Contents",
   "title_sidebar": "Contents",
   "toc_cell": false,
   "toc_position": {},
   "toc_section_display": true,
   "toc_window_display": false
  }
 },
 "nbformat": 4,
 "nbformat_minor": 4
}
